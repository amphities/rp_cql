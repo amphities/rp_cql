{
 "cells": [
  {
   "metadata": {},
   "cell_type": "markdown",
   "source": "Initialize import and values for the notebook",
   "id": "6fb5e3a9363d85"
  },
  {
   "metadata": {},
   "cell_type": "markdown",
   "source": "",
   "id": "4c7fcddffbd11077"
  },
  {
   "metadata": {},
   "cell_type": "code",
   "outputs": [],
   "execution_count": null,
   "source": [
    "import pickle\n",
    "from enum import Enum\n",
    "\n",
    "import d3rlpy\n",
    "import dill\n",
    "import gymnasium as gym\n",
    "from stable_baselines3 import DQN\n",
    "\n",
    "from src.create_dataset import create_dataset_from_env\n",
    "from src.hyper_parameters import get_cql_hyperparameters, get_bc_hyperparameters\n",
    "from src.four_room_stuff.wrappers import gym_wrapper\n",
    "from d3rlpy.algos import DiscreteCQLConfig, DiscreteBCConfig\n",
    "\n",
    "with open('configs/fourrooms_test_0_config.pl', 'rb') as file:\n",
    "    train_config = dill.load(file)\n",
    "\n",
    "#dataset creation params\n",
    "model = DQN.load(\"models/dqn_four_rooms\")\n",
    "chance_to_choose_optimal = 0.5\n",
    "random_walk_step_count_lower_bound = 10\n",
    "random_walk_step_count_upper_bound = 25\n",
    "\n",
    "class Dataset_types(Enum):\n",
    "    OPTIMAL = 'optimal'\n",
    "    EXPERT_SUBOPTMAL = 'mixed_suboptimal'\n",
    "    RANDOM_WALK = 'random_walk'\n",
    "\n",
    "#seeds for reproducible results\n",
    "training_seeds = [0, 4219, 17333, 39779, 44987]\n",
    "hyperparameter_seeds = [5, 6, 7, 8, 9]\n",
    "dataset_seeds = [1, 2, 3]\n",
    "\n",
    "#cql hyperparameters\n",
    "available_cql_batch_sizes = [8, 16, 32]\n",
    "learning_rate_range = [0.0001, 0.01]\n",
    "alpha_range = [0.1, 5]\n",
    "n_trials = 50\n",
    "beta_range = [0.1, 10]\n",
    "available_bc_batch_sizes = [25, 50, 100]\n",
    "\n",
    "#plotting params\n",
    "step_cap = 100"
   ],
   "id": "a854e340b52d6156"
  },
  {
   "metadata": {},
   "cell_type": "markdown",
   "source": "Load datasets and the training configuration for the local setup",
   "id": "4bf61b0356a46d03"
  },
  {
   "metadata": {},
   "cell_type": "code",
   "outputs": [],
   "execution_count": null,
   "source": "",
   "id": "4e4c0049a11c7431"
  }
 ],
 "metadata": {
  "kernelspec": {
   "display_name": "Python 3",
   "language": "python",
   "name": "python3"
  },
  "language_info": {
   "codemirror_mode": {
    "name": "ipython",
    "version": 2
   },
   "file_extension": ".py",
   "mimetype": "text/x-python",
   "name": "python",
   "nbconvert_exporter": "python",
   "pygments_lexer": "ipython2",
   "version": "2.7.6"
  }
 },
 "nbformat": 4,
 "nbformat_minor": 5
}
